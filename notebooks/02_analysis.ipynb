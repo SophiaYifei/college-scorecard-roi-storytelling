{
 "cells": [
  {
   "cell_type": "code",
   "execution_count": null,
   "id": "64b5a184",
   "metadata": {
    "vscode": {
     "languageId": "plaintext"
    }
   },
   "outputs": [],
   "source": [
    "import pandas as pd\n",
    "\n",
    "# Load processed data\n",
    "df = pd.read_csv(\"data/processed/cleaned.csv\")\n",
    "df.head()\n",
    "\n",
    "# (TODO) do EDA, ROI calculation, visualizations\n"
   ]
  }
 ],
 "metadata": {
  "language_info": {
   "name": "python"
  }
 },
 "nbformat": 4,
 "nbformat_minor": 5
}
